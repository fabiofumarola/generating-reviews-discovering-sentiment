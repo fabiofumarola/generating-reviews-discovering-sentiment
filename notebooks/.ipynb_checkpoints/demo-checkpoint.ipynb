{
 "cells": [
  {
   "cell_type": "code",
   "execution_count": 1,
   "metadata": {},
   "outputs": [],
   "source": [
    "import sys\n",
    "sys.path.append('../')"
   ]
  },
  {
   "cell_type": "code",
   "execution_count": 2,
   "metadata": {},
   "outputs": [],
   "source": [
    "from encoder import Model"
   ]
  },
  {
   "cell_type": "code",
   "execution_count": 3,
   "metadata": {},
   "outputs": [],
   "source": [
    "model = Model(model_path='../model')"
   ]
  },
  {
   "cell_type": "code",
   "execution_count": 4,
   "metadata": {},
   "outputs": [
    {
     "name": "stdout",
     "output_type": "stream",
     "text": [
      "10.311 seconds to transform 5 examples\n"
     ]
    }
   ],
   "source": [
    "text = [\n",
    "    'the food was hot and the service was fast!',\n",
    "    'worst thing ever, i hate everything about this, will return immediately',\n",
    "    'dead on arrival',\n",
    "    'this is a life saver, i cant live without this',\n",
    "    'it was okay, nothing amazing, but nothing to complain about either'\n",
    "]\n",
    "text_features = model.transform(text)"
   ]
  },
  {
   "cell_type": "code",
   "execution_count": 11,
   "metadata": {},
   "outputs": [
    {
     "name": "stdout",
     "output_type": "stream",
     "text": [
      "the food was hot and the service was fast! -> sentiment: 0.53\n",
      "worst thing ever, i hate everything about this, will return immediately -> sentiment: -1.62\n",
      "dead on arrival -> sentiment: -0.70\n",
      "this is a life saver, i cant live without this -> sentiment: 1.71\n",
      "it was okay, nothing amazing, but nothing to complain about either -> sentiment: -0.04\n"
     ]
    }
   ],
   "source": [
    "for t,v in zip(text, text_features[:, 2388]):\n",
    "    print(f'{t} -> sentiment: {v:.2f}')"
   ]
  },
  {
   "cell_type": "code",
   "execution_count": null,
   "metadata": {},
   "outputs": [],
   "source": []
  }
 ],
 "metadata": {
  "kernelspec": {
   "display_name": "Python 3",
   "language": "python",
   "name": "python3"
  },
  "language_info": {
   "codemirror_mode": {
    "name": "ipython",
    "version": 3
   },
   "file_extension": ".py",
   "mimetype": "text/x-python",
   "name": "python",
   "nbconvert_exporter": "python",
   "pygments_lexer": "ipython3",
   "version": "3.6.8"
  }
 },
 "nbformat": 4,
 "nbformat_minor": 2
}
